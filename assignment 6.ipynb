{
 "cells": [
  {
   "cell_type": "code",
   "execution_count": 11,
   "id": "db74355f",
   "metadata": {},
   "outputs": [
    {
     "name": "stdout",
     "output_type": "stream",
     "text": [
      "kalyani 1990-01-01 170 New York NY\n",
      "pallavi 1992-05-12 165 Los Angeles CA\n",
      "shubhangi 1985-12-20 180 Chicago IL\n",
      "shrikant 1993-03-07 160 Houston TX\n",
      "danyaneshwar 1988-08-15 175 Miami FL\n"
     ]
    }
   ],
   "source": [
    "#Assignment 1\n",
    "import json\n",
    "class Employee:\n",
    "    def __init__(self, name, dob, height, city, state):\n",
    "        self.name = name\n",
    "        self.dob = dob\n",
    "        self.height = height\n",
    "        self.city = city\n",
    "        self.state = state\n",
    "\n",
    "employees = [\n",
    "    Employee(\"kalyani\", \"1990-01-01\", 170, \"New York\", \"NY\"),\n",
    "    Employee(\"pallavi\", \"1992-05-12\", 165, \"Los Angeles\", \"CA\"),\n",
    "    Employee(\"shubhangi\", \"1985-12-20\", 180, \"Chicago\", \"IL\"),\n",
    "    Employee(\"shrikant\", \"1993-03-07\", 160, \"Houston\", \"TX\"),\n",
    "    Employee(\"danyaneshwar\", \"1988-08-15\", 175, \"Miami\", \"FL\")\n",
    "]\n",
    "\n",
    "with open(\"employee.json\", \"w\") as f:\n",
    "    json.dump([{\"name\": e.name, \"dob\": e.dob, \"height\": e.height, \"city\": e.city, \"state\": e.state} for e in employees], f)\n",
    "\n",
    "with open(\"employee.json\", \"r\") as f:\n",
    "    employees_data = json.load(f)\n",
    "\n",
    "employees = [Employee(e[\"name\"], e[\"dob\"], e[\"height\"], e[\"city\"], e[\"state\"]) for e in employees_data]\n",
    "\n",
    "for e in employees:\n",
    "    print(e.name, e.dob, e.height, e.city, e.state)\n",
    "import json\n",
    "\n",
    "states_dict = {\n",
    "    \"Andhra Pradesh\": \"Hyderabad\",\n",
    "    \"Assam\": \"Dispur\",\n",
    "    \"Bihar\": \"Patna\",\n",
    "    \"Gujarat\": \"Gandhinagar\",\n",
    "    \"Karnataka\": \"Bengaluru\",\n",
    "    \"Maharashtra\": \"Mumbai\",\n",
    "    \"Rajasthan\": \"Jaipur\"\n",
    "}\n",
    "with open(\"indian_states.json\", \"w\") as f:\n",
    "    json.dump(states_dict, f)\n",
    "    {\n",
    "    \"Andhra Pradesh\": \"Hyderabad\",\n",
    "    \"Assam\": \"Dispur\",\n",
    "    \"Bihar\": \"Patna\",\n",
    "    \"Gujarat\": \"Gandhinagar\",\n",
    "    \"Karnataka\": \"Bengaluru\",\n",
    "    \"Maharashtra\": \"Mumbai\",\n",
    "    \"Rajasthan\": \"Jaipur\"\n",
    "}\n",
    "\n",
    "    \n"
   ]
  },
  {
   "cell_type": "code",
   "execution_count": 9,
   "id": "1bd7ce6e",
   "metadata": {},
   "outputs": [
    {
     "name": "stdout",
     "output_type": "stream",
     "text": [
      "Max is 3 years old.\n",
      "Max's coat color is white.\n",
      "I am a hunting dog.\n",
      "Buddy is 5 years old.\n",
      "Buddy's coat color is brown.\n",
      "Woof!\n",
      "I am a guard dog.\n"
     ]
    }
   ],
   "source": [
    "#Assignment 2\n",
    "class Dog:\n",
    "    def __init__(self, name, age, coat_color):\n",
    "        self.name = name\n",
    "        self.age = age\n",
    "        self.coat_color = coat_color\n",
    "    \n",
    "    def description(self):\n",
    "        print(f\"{self.name} is {self.age} years old.\")\n",
    "    \n",
    "    def get_info(self):\n",
    "        print(f\"{self.name}'s coat color is {self.coat_color}.\")\n",
    "\n",
    "class JackRussellTerrier(Dog):\n",
    "    def __init__(self, name, age, coat_color):\n",
    "        super().__init__(name, age, coat_color)\n",
    "    \n",
    "    def bark(self):\n",
    "        print(\"Woof! Woof!\")\n",
    "    \n",
    "    def hunt(self):\n",
    "        print(\"I am a hunting dog.\")\n",
    "\n",
    "class Bulldog(Dog):\n",
    "    def __init__(self, name, age, coat_color):\n",
    "        super().__init__(name, age, coat_color)\n",
    "    \n",
    "    def bark(self):\n",
    "        print(\"Woof!\")\n",
    "    \n",
    "    def guard(self):\n",
    "        print(\"I am a guard dog.\")\n",
    "\n",
    "dog1 = JackRussellTerrier(\"Max\", 3, \"white\")\n",
    "dog1.description() \n",
    "dog1.get_info() \n",
    "dog1.hunt() \n",
    "dog2 = Bulldog(\"Buddy\", 5, \"brown\")\n",
    "dog2.description() \n",
    "dog2.get_info() \n",
    "dog2.bark() \n",
    "dog2.guard()\n"
   ]
  },
  {
   "cell_type": "code",
   "execution_count": null,
   "id": "0e34e4c7",
   "metadata": {},
   "outputs": [],
   "source": []
  }
 ],
 "metadata": {
  "kernelspec": {
   "display_name": "Python 3 (ipykernel)",
   "language": "python",
   "name": "python3"
  },
  "language_info": {
   "codemirror_mode": {
    "name": "ipython",
    "version": 3
   },
   "file_extension": ".py",
   "mimetype": "text/x-python",
   "name": "python",
   "nbconvert_exporter": "python",
   "pygments_lexer": "ipython3",
   "version": "3.9.13"
  }
 },
 "nbformat": 4,
 "nbformat_minor": 5
}
